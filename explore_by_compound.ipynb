{
 "cells": [
  {
   "cell_type": "markdown",
   "id": "0715956e-1f24-4d4f-be4c-0ab960a65632",
   "metadata": {},
   "source": [
    "## Imports"
   ]
  },
  {
   "cell_type": "code",
   "execution_count": 1,
   "id": "3314e0fa-7497-4334-9f67-7ee6d4167a27",
   "metadata": {},
   "outputs": [
    {
     "name": "stdout",
     "output_type": "stream",
     "text": [
      "Intel MKL WARNING: Support of Intel(R) Streaming SIMD Extensions 4.2 (Intel(R) SSE4.2) enabled only processors has been deprecated. Intel oneAPI Math Kernel Library 2025.0 will require Intel(R) Advanced Vector Extensions (Intel(R) AVX) instructions.\n",
      "Intel MKL WARNING: Support of Intel(R) Streaming SIMD Extensions 4.2 (Intel(R) SSE4.2) enabled only processors has been deprecated. Intel oneAPI Math Kernel Library 2025.0 will require Intel(R) Advanced Vector Extensions (Intel(R) AVX) instructions.\n"
     ]
    }
   ],
   "source": [
    "import networkx as nx\n",
    "import pandas as pd\n",
    "import matplotlib.pyplot as plt\n",
    "from tqdm import tqdm\n",
    "from collections import Counter\n",
    "import itertools\n",
    "import math\n",
    "from utils import *"
   ]
  },
  {
   "cell_type": "markdown",
   "id": "2a5a6c07-52e8-4b32-945c-6ddadf64c286",
   "metadata": {},
   "source": [
    "## Load data"
   ]
  },
  {
   "cell_type": "code",
   "execution_count": 2,
   "id": "f974c586-6210-4733-93dc-79f49a38907e",
   "metadata": {},
   "outputs": [
    {
     "name": "stderr",
     "output_type": "stream",
     "text": [
      "/var/folders/ln/wx93hvrs02d003t516fpf0xc0000gn/T/ipykernel_2696/3428497312.py:2: DtypeWarning: Columns (3,4,5,6,12,13,14,15) have mixed types. Specify dtype option on import or set low_memory=False.\n",
      "  compounds = pd.read_csv('data/Compound.csv', header=0, index_col=0)\n",
      "/var/folders/ln/wx93hvrs02d003t516fpf0xc0000gn/T/ipykernel_2696/3428497312.py:3: DtypeWarning: Columns (4,5,6,7,8,9,13,14,21,22,24) have mixed types. Specify dtype option on import or set low_memory=False.\n",
      "  content = pd.read_csv('data/Content.csv', header=0, index_col=0)\n"
     ]
    }
   ],
   "source": [
    "foods = pd.read_csv('data/Food.csv', header=0, index_col=0)\n",
    "compounds = pd.read_csv('data/Compound.csv', header=0, index_col=0)\n",
    "content = pd.read_csv('data/Content.csv', header=0, index_col=0)"
   ]
  },
  {
   "cell_type": "markdown",
   "id": "ff2f1ca1-7339-4458-8910-478b42691b4e",
   "metadata": {},
   "source": [
    "## Processing the Data"
   ]
  },
  {
   "cell_type": "markdown",
   "id": "a47fafc2-8822-4c00-9824-540f3003597d",
   "metadata": {},
   "source": [
    "In this task, I want to build a graph where each node is a compound. In this graph, an edge between compounds would indicate that they are found in the same food. Edges will be weighted by the number of foods that any two compounds share. Edges will also be coloured by the max count food type to indicate that a particular category of food most often shares these two compounds. The food type that colours the most edges can be thought of the food type that covers most compounds"
   ]
  },
  {
   "cell_type": "markdown",
   "id": "cdee5b2e-24a8-4eb4-9656-4c5a700d9616",
   "metadata": {},
   "source": [
    "## Compound Maps\n",
    "For this first part, the goal will be to create compound graphs that act like a visual signature for each food item. We can denote the graph $G = (V, E)$. Each vertex $v \\in V$ corresponds to a compound and the size of the node reflects the enrichment of that compound in the food of interest. $(u, v) \\in E \\iff$ these two compounds can be found in the same food item. The edge can be weighted according to the number of food items that share this compound."
   ]
  },
  {
   "cell_type": "markdown",
   "id": "408a80fc-59e8-4c9e-8d04-cae723a49df2",
   "metadata": {},
   "source": [
    "### Parse Vertices"
   ]
  },
  {
   "cell_type": "code",
   "execution_count": 3,
   "id": "b6026a16-56f1-44a9-9d2e-d9d21b42045c",
   "metadata": {},
   "outputs": [],
   "source": [
    "# Only keep relevant entries\n",
    "content = content[content['source_type'] == 'Compound']\n",
    "content = content[content['food_id'].isin(foods.index)]\n",
    "content = content[content['source_id'].isin(compounds.index)]\n",
    "\n",
    "# We just keep the observations that use the `mg/100g` unit for concentration measurement\n",
    "content = content[content['orig_unit'].isin(['mg/100g', 'mg/100 g'])]\n",
    "content.dropna(subset=['orig_content'], inplace=True)\n",
    "\n",
    "# Only keep the compounds that are shared amongst the selected foods of interest\n",
    "relevant_compounds = content['source_id'].unique()\n",
    "compounds = compounds[compounds.index.isin(relevant_compounds)]"
   ]
  },
  {
   "cell_type": "code",
   "execution_count": 4,
   "id": "c0145bcd-b162-45c0-b7da-4d78d08ac4de",
   "metadata": {},
   "outputs": [],
   "source": [
    "# Some compounds are observed many times in the same foods, so we take the mean observation concentration\n",
    "mean_content = content.groupby(['food_id', 'source_id'])['orig_content'].mean()\n",
    "mean_content = mean_content[mean_content > 0]\n",
    "\n",
    "## Let's group the observations by food and obtain the observation count per food\n",
    "#  This will help us choose the foods that have interesting compound maps to visualize\n",
    "by_food = mean_content.groupby('food_id').count()\n",
    "foods = foods.merge(by_food, left_index=True, right_index=True)\n",
    "foods = foods.sort_values(by=['orig_content'], ascending=False)[['name', 'orig_content']]"
   ]
  },
  {
   "cell_type": "code",
   "execution_count": 5,
   "id": "c960245e-f350-400a-bd1b-52ecbdd39f80",
   "metadata": {},
   "outputs": [
    {
     "data": {
      "text/html": [
       "<div>\n",
       "<style scoped>\n",
       "    .dataframe tbody tr th:only-of-type {\n",
       "        vertical-align: middle;\n",
       "    }\n",
       "\n",
       "    .dataframe tbody tr th {\n",
       "        vertical-align: top;\n",
       "    }\n",
       "\n",
       "    .dataframe thead th {\n",
       "        text-align: right;\n",
       "    }\n",
       "</style>\n",
       "<table border=\"1\" class=\"dataframe\">\n",
       "  <thead>\n",
       "    <tr style=\"text-align: right;\">\n",
       "      <th></th>\n",
       "      <th>name</th>\n",
       "      <th>orig_content</th>\n",
       "    </tr>\n",
       "  </thead>\n",
       "  <tbody>\n",
       "    <tr>\n",
       "      <th>268</th>\n",
       "      <td>Beer</td>\n",
       "      <td>269</td>\n",
       "    </tr>\n",
       "    <tr>\n",
       "      <th>245</th>\n",
       "      <td>Carrot</td>\n",
       "      <td>211</td>\n",
       "    </tr>\n",
       "    <tr>\n",
       "      <th>57</th>\n",
       "      <td>Sweet orange</td>\n",
       "      <td>186</td>\n",
       "    </tr>\n",
       "    <tr>\n",
       "      <th>205</th>\n",
       "      <td>Corn</td>\n",
       "      <td>183</td>\n",
       "    </tr>\n",
       "    <tr>\n",
       "      <th>909</th>\n",
       "      <td>Green bell pepper</td>\n",
       "      <td>175</td>\n",
       "    </tr>\n",
       "    <tr>\n",
       "      <th>...</th>\n",
       "      <td>...</td>\n",
       "      <td>...</td>\n",
       "    </tr>\n",
       "    <tr>\n",
       "      <th>240</th>\n",
       "      <td>Japanese walnut</td>\n",
       "      <td>2</td>\n",
       "    </tr>\n",
       "    <tr>\n",
       "      <th>799</th>\n",
       "      <td>Cupuaçu</td>\n",
       "      <td>1</td>\n",
       "    </tr>\n",
       "    <tr>\n",
       "      <th>262</th>\n",
       "      <td>Black radish</td>\n",
       "      <td>1</td>\n",
       "    </tr>\n",
       "    <tr>\n",
       "      <th>265</th>\n",
       "      <td>Sweet rowanberry</td>\n",
       "      <td>1</td>\n",
       "    </tr>\n",
       "    <tr>\n",
       "      <th>801</th>\n",
       "      <td>Oil-seed Camellia</td>\n",
       "      <td>1</td>\n",
       "    </tr>\n",
       "  </tbody>\n",
       "</table>\n",
       "<p>828 rows × 2 columns</p>\n",
       "</div>"
      ],
      "text/plain": [
       "                  name  orig_content\n",
       "268               Beer           269\n",
       "245             Carrot           211\n",
       "57        Sweet orange           186\n",
       "205               Corn           183\n",
       "909  Green bell pepper           175\n",
       "..                 ...           ...\n",
       "240    Japanese walnut             2\n",
       "799            Cupuaçu             1\n",
       "262       Black radish             1\n",
       "265   Sweet rowanberry             1\n",
       "801  Oil-seed Camellia             1\n",
       "\n",
       "[828 rows x 2 columns]"
      ]
     },
     "execution_count": 5,
     "metadata": {},
     "output_type": "execute_result"
    }
   ],
   "source": [
    "foods"
   ]
  },
  {
   "cell_type": "code",
   "execution_count": 6,
   "id": "2c4dcace-0843-421d-b01c-d3fafc4baec8",
   "metadata": {},
   "outputs": [
    {
     "data": {
      "text/html": [
       "<div>\n",
       "<style scoped>\n",
       "    .dataframe tbody tr th:only-of-type {\n",
       "        vertical-align: middle;\n",
       "    }\n",
       "\n",
       "    .dataframe tbody tr th {\n",
       "        vertical-align: top;\n",
       "    }\n",
       "\n",
       "    .dataframe thead th {\n",
       "        text-align: right;\n",
       "    }\n",
       "</style>\n",
       "<table border=\"1\" class=\"dataframe\">\n",
       "  <thead>\n",
       "    <tr style=\"text-align: right;\">\n",
       "      <th>food_id</th>\n",
       "      <th>1</th>\n",
       "      <th>2</th>\n",
       "      <th>3</th>\n",
       "      <th>4</th>\n",
       "      <th>5</th>\n",
       "      <th>6</th>\n",
       "      <th>7</th>\n",
       "      <th>8</th>\n",
       "      <th>9</th>\n",
       "      <th>10</th>\n",
       "      <th>...</th>\n",
       "      <th>943</th>\n",
       "      <th>949</th>\n",
       "      <th>957</th>\n",
       "      <th>971</th>\n",
       "      <th>985</th>\n",
       "      <th>1019</th>\n",
       "      <th>1021</th>\n",
       "      <th>1022</th>\n",
       "      <th>1023</th>\n",
       "      <th>1024</th>\n",
       "    </tr>\n",
       "  </thead>\n",
       "  <tbody>\n",
       "    <tr>\n",
       "      <th>count</th>\n",
       "      <td>2.000000</td>\n",
       "      <td>51.000000</td>\n",
       "      <td>2.000000</td>\n",
       "      <td>85.000000</td>\n",
       "      <td>76.000000</td>\n",
       "      <td>113.000000</td>\n",
       "      <td>57.000000</td>\n",
       "      <td>102.000000</td>\n",
       "      <td>60.000000</td>\n",
       "      <td>9.000000</td>\n",
       "      <td>...</td>\n",
       "      <td>93.000000</td>\n",
       "      <td>83.000000</td>\n",
       "      <td>101.000000</td>\n",
       "      <td>3.000000</td>\n",
       "      <td>31.000000</td>\n",
       "      <td>77.000000</td>\n",
       "      <td>105.000000</td>\n",
       "      <td>8.000000</td>\n",
       "      <td>44.000000</td>\n",
       "      <td>20.000000</td>\n",
       "    </tr>\n",
       "    <tr>\n",
       "      <th>mean</th>\n",
       "      <td>34.271429</td>\n",
       "      <td>69.304559</td>\n",
       "      <td>0.850000</td>\n",
       "      <td>270.216745</td>\n",
       "      <td>158.229251</td>\n",
       "      <td>403.272426</td>\n",
       "      <td>103.702642</td>\n",
       "      <td>156.319132</td>\n",
       "      <td>272.663150</td>\n",
       "      <td>17.334481</td>\n",
       "      <td>...</td>\n",
       "      <td>1176.356466</td>\n",
       "      <td>49.064940</td>\n",
       "      <td>549.752282</td>\n",
       "      <td>14.216667</td>\n",
       "      <td>628.035977</td>\n",
       "      <td>1317.440286</td>\n",
       "      <td>516.278370</td>\n",
       "      <td>46805.187500</td>\n",
       "      <td>1496.546748</td>\n",
       "      <td>2838.641360</td>\n",
       "    </tr>\n",
       "    <tr>\n",
       "      <th>std</th>\n",
       "      <td>10.263150</td>\n",
       "      <td>112.206663</td>\n",
       "      <td>0.494975</td>\n",
       "      <td>1145.042734</td>\n",
       "      <td>622.389149</td>\n",
       "      <td>1938.728383</td>\n",
       "      <td>206.933699</td>\n",
       "      <td>364.950641</td>\n",
       "      <td>487.075294</td>\n",
       "      <td>13.903768</td>\n",
       "      <td>...</td>\n",
       "      <td>6044.504631</td>\n",
       "      <td>198.358408</td>\n",
       "      <td>2298.010186</td>\n",
       "      <td>10.315068</td>\n",
       "      <td>1831.735059</td>\n",
       "      <td>5772.656944</td>\n",
       "      <td>2253.452070</td>\n",
       "      <td>113700.037034</td>\n",
       "      <td>8618.448284</td>\n",
       "      <td>12372.622588</td>\n",
       "    </tr>\n",
       "    <tr>\n",
       "      <th>min</th>\n",
       "      <td>27.014286</td>\n",
       "      <td>0.002100</td>\n",
       "      <td>0.500000</td>\n",
       "      <td>0.000785</td>\n",
       "      <td>0.000005</td>\n",
       "      <td>0.000050</td>\n",
       "      <td>0.000558</td>\n",
       "      <td>0.000045</td>\n",
       "      <td>0.002200</td>\n",
       "      <td>2.599615</td>\n",
       "      <td>...</td>\n",
       "      <td>0.010000</td>\n",
       "      <td>0.004000</td>\n",
       "      <td>0.000025</td>\n",
       "      <td>5.790000</td>\n",
       "      <td>0.002500</td>\n",
       "      <td>0.000038</td>\n",
       "      <td>0.000017</td>\n",
       "      <td>96.000000</td>\n",
       "      <td>0.003000</td>\n",
       "      <td>0.002200</td>\n",
       "    </tr>\n",
       "    <tr>\n",
       "      <th>25%</th>\n",
       "      <td>30.642857</td>\n",
       "      <td>0.255000</td>\n",
       "      <td>0.675000</td>\n",
       "      <td>0.039000</td>\n",
       "      <td>0.205864</td>\n",
       "      <td>0.090000</td>\n",
       "      <td>0.290000</td>\n",
       "      <td>0.003337</td>\n",
       "      <td>0.997125</td>\n",
       "      <td>4.520714</td>\n",
       "      <td>...</td>\n",
       "      <td>1.260000</td>\n",
       "      <td>0.200000</td>\n",
       "      <td>0.750000</td>\n",
       "      <td>8.465000</td>\n",
       "      <td>6.500000</td>\n",
       "      <td>0.379500</td>\n",
       "      <td>0.606667</td>\n",
       "      <td>791.000000</td>\n",
       "      <td>0.321125</td>\n",
       "      <td>0.360500</td>\n",
       "    </tr>\n",
       "    <tr>\n",
       "      <th>50%</th>\n",
       "      <td>34.271429</td>\n",
       "      <td>20.000000</td>\n",
       "      <td>0.850000</td>\n",
       "      <td>1.250000</td>\n",
       "      <td>9.732143</td>\n",
       "      <td>1.619759</td>\n",
       "      <td>30.000000</td>\n",
       "      <td>0.540692</td>\n",
       "      <td>40.650000</td>\n",
       "      <td>11.650357</td>\n",
       "      <td>...</td>\n",
       "      <td>8.000000</td>\n",
       "      <td>1.990000</td>\n",
       "      <td>6.255556</td>\n",
       "      <td>11.140000</td>\n",
       "      <td>95.000000</td>\n",
       "      <td>10.173913</td>\n",
       "      <td>5.000000</td>\n",
       "      <td>8140.000000</td>\n",
       "      <td>78.000000</td>\n",
       "      <td>3.776500</td>\n",
       "    </tr>\n",
       "    <tr>\n",
       "      <th>75%</th>\n",
       "      <td>37.900000</td>\n",
       "      <td>93.000000</td>\n",
       "      <td>1.025000</td>\n",
       "      <td>51.500000</td>\n",
       "      <td>72.019231</td>\n",
       "      <td>72.125000</td>\n",
       "      <td>100.000000</td>\n",
       "      <td>119.750000</td>\n",
       "      <td>385.037500</td>\n",
       "      <td>29.137500</td>\n",
       "      <td>...</td>\n",
       "      <td>100.000000</td>\n",
       "      <td>12.125000</td>\n",
       "      <td>110.000000</td>\n",
       "      <td>18.430000</td>\n",
       "      <td>181.500000</td>\n",
       "      <td>352.500000</td>\n",
       "      <td>110.000000</td>\n",
       "      <td>14150.000000</td>\n",
       "      <td>251.375000</td>\n",
       "      <td>88.000000</td>\n",
       "    </tr>\n",
       "    <tr>\n",
       "      <th>max</th>\n",
       "      <td>41.528572</td>\n",
       "      <td>450.000000</td>\n",
       "      <td>1.200000</td>\n",
       "      <td>8890.000000</td>\n",
       "      <td>5201.666667</td>\n",
       "      <td>13030.000000</td>\n",
       "      <td>1300.000000</td>\n",
       "      <td>1850.000000</td>\n",
       "      <td>2500.000000</td>\n",
       "      <td>39.400002</td>\n",
       "      <td>...</td>\n",
       "      <td>43593.500000</td>\n",
       "      <td>1547.550000</td>\n",
       "      <td>16000.000000</td>\n",
       "      <td>25.720000</td>\n",
       "      <td>8138.000000</td>\n",
       "      <td>40200.000000</td>\n",
       "      <td>16000.000000</td>\n",
       "      <td>327827.500000</td>\n",
       "      <td>57330.000000</td>\n",
       "      <td>55400.000000</td>\n",
       "    </tr>\n",
       "  </tbody>\n",
       "</table>\n",
       "<p>8 rows × 828 columns</p>\n",
       "</div>"
      ],
      "text/plain": [
       "food_id       1           2         3            4            5     \\\n",
       "count     2.000000   51.000000  2.000000    85.000000    76.000000   \n",
       "mean     34.271429   69.304559  0.850000   270.216745   158.229251   \n",
       "std      10.263150  112.206663  0.494975  1145.042734   622.389149   \n",
       "min      27.014286    0.002100  0.500000     0.000785     0.000005   \n",
       "25%      30.642857    0.255000  0.675000     0.039000     0.205864   \n",
       "50%      34.271429   20.000000  0.850000     1.250000     9.732143   \n",
       "75%      37.900000   93.000000  1.025000    51.500000    72.019231   \n",
       "max      41.528572  450.000000  1.200000  8890.000000  5201.666667   \n",
       "\n",
       "food_id          6            7            8            9          10    ...  \\\n",
       "count      113.000000    57.000000   102.000000    60.000000   9.000000  ...   \n",
       "mean       403.272426   103.702642   156.319132   272.663150  17.334481  ...   \n",
       "std       1938.728383   206.933699   364.950641   487.075294  13.903768  ...   \n",
       "min          0.000050     0.000558     0.000045     0.002200   2.599615  ...   \n",
       "25%          0.090000     0.290000     0.003337     0.997125   4.520714  ...   \n",
       "50%          1.619759    30.000000     0.540692    40.650000  11.650357  ...   \n",
       "75%         72.125000   100.000000   119.750000   385.037500  29.137500  ...   \n",
       "max      13030.000000  1300.000000  1850.000000  2500.000000  39.400002  ...   \n",
       "\n",
       "food_id          943          949           957        971          985   \\\n",
       "count       93.000000    83.000000    101.000000   3.000000    31.000000   \n",
       "mean      1176.356466    49.064940    549.752282  14.216667   628.035977   \n",
       "std       6044.504631   198.358408   2298.010186  10.315068  1831.735059   \n",
       "min          0.010000     0.004000      0.000025   5.790000     0.002500   \n",
       "25%          1.260000     0.200000      0.750000   8.465000     6.500000   \n",
       "50%          8.000000     1.990000      6.255556  11.140000    95.000000   \n",
       "75%        100.000000    12.125000    110.000000  18.430000   181.500000   \n",
       "max      43593.500000  1547.550000  16000.000000  25.720000  8138.000000   \n",
       "\n",
       "food_id          1019          1021           1022          1023          1024  \n",
       "count       77.000000    105.000000       8.000000     44.000000     20.000000  \n",
       "mean      1317.440286    516.278370   46805.187500   1496.546748   2838.641360  \n",
       "std       5772.656944   2253.452070  113700.037034   8618.448284  12372.622588  \n",
       "min          0.000038      0.000017      96.000000      0.003000      0.002200  \n",
       "25%          0.379500      0.606667     791.000000      0.321125      0.360500  \n",
       "50%         10.173913      5.000000    8140.000000     78.000000      3.776500  \n",
       "75%        352.500000    110.000000   14150.000000    251.375000     88.000000  \n",
       "max      40200.000000  16000.000000  327827.500000  57330.000000  55400.000000  \n",
       "\n",
       "[8 rows x 828 columns]"
      ]
     },
     "execution_count": 6,
     "metadata": {},
     "output_type": "execute_result"
    }
   ],
   "source": [
    "# Now let's add the mean concentration for each food-compound pair to the compounds dataframe\n",
    "pivoted = mean_content.reset_index().pivot(index='source_id', columns='food_id', values='orig_content')\n",
    "pivoted.describe()"
   ]
  },
  {
   "cell_type": "code",
   "execution_count": 7,
   "id": "ea1508a4-503f-400e-bd8d-f47148625a48",
   "metadata": {},
   "outputs": [],
   "source": [
    "# We can now merge the pivoted frame with the original compound frame to obtain the nodes of our graph\n",
    "compounds_aug = compounds.merge(pivoted, left_index=True, right_index=True, how=\"outer\")"
   ]
  },
  {
   "cell_type": "markdown",
   "id": "b2c701e4-b5dd-4177-876c-fc8a2bb952ea",
   "metadata": {},
   "source": [
    "### Parse edges"
   ]
  },
  {
   "cell_type": "code",
   "execution_count": 8,
   "id": "dfb46382-c905-4109-88a6-0fed4c0f1897",
   "metadata": {},
   "outputs": [
    {
     "name": "stderr",
     "output_type": "stream",
     "text": [
      "100%|███████████████████████████████████████| 828/828 [00:00<00:00, 1877.84it/s]\n"
     ]
    }
   ],
   "source": [
    "## We said that every pair of compounds will share an edge (u, v, w) where w is the number of \n",
    "#  foods that contain both compounds. This method will tell us how often two compounds co-occur\n",
    "edgelist = Counter()\n",
    "\n",
    "for idx, df_g in tqdm(mean_content.groupby(level=[0])):\n",
    "    conn_compounds = sorted(df_g.index.get_level_values(1))\n",
    "    pairs = itertools.combinations(conn_compounds, 2)\n",
    "    edgelist.update(pairs)"
   ]
  },
  {
   "cell_type": "code",
   "execution_count": 9,
   "id": "4b18c31b-3338-4e6e-a015-6555cd6b2a6f",
   "metadata": {},
   "outputs": [
    {
     "data": {
      "text/plain": [
       "'We have 1863 nodes and 226251 edges'"
      ]
     },
     "execution_count": 9,
     "metadata": {},
     "output_type": "execute_result"
    }
   ],
   "source": [
    "'We have %d nodes and %d edges' %  (len(compounds_aug), len(edgelist))"
   ]
  },
  {
   "cell_type": "code",
   "execution_count": 10,
   "id": "f3922975-fe3b-4fb3-b5cd-a022d6e59bbf",
   "metadata": {},
   "outputs": [
    {
     "data": {
      "image/png": "[encoded data removed]",
      "text/plain": [
       "<Figure size 640x480 with 1 Axes>"
      ]
     },
     "metadata": {},
     "output_type": "display_data"
    }
   ],
   "source": [
    "# Plot the histogram of edge weights (I take the log of weight values + 1 for normalization)\n",
    "weights = np.log2(np.array(list(edgelist.values()))+1)\n",
    "plt.hist(weights, bins=75)\n",
    "plt.show()"
   ]
  },
  {
   "cell_type": "markdown",
   "id": "d93c0b7c-4853-48bd-95e0-7a431df7e54b",
   "metadata": {},
   "source": [
    "### Build the graph!"
   ]
  },
  {
   "cell_type": "code",
   "execution_count": 16,
   "id": "18098a5d-30df-42a8-92c9-f542b6a8e71d",
   "metadata": {},
   "outputs": [
    {
     "name": "stdout",
     "output_type": "stream",
     "text": [
      "1863\n",
      "226251\n"
     ]
    }
   ],
   "source": [
    "g_nodes = compounds_aug.to_dict('index')\n",
    "g_nodes = [(k, v) for k, v in g_nodes.items()]\n",
    "\n",
    "g_edges = [(k[0], k[1], {'weight': w}) for k,w in edgelist.items()]\n",
    "\n",
    "g = nx.Graph()\n",
    "\n",
    "g.add_nodes_from(g_nodes)\n",
    "g.add_edges_from(g_edges)\n",
    "\n",
    "print(len(g.nodes))\n",
    "print(len(g.edges))"
   ]
  },
  {
   "cell_type": "code",
   "execution_count": 17,
   "id": "7b8b3aeb-dc8d-47c1-9e39-357db972cc84",
   "metadata": {},
   "outputs": [],
   "source": [
    "# Save graph for further visualization with gephi\n",
    "nx.write_gexf(g, \"compound_maps.gexf\")"
   ]
  },
  {
   "cell_type": "code",
   "execution_count": 203,
   "id": "ef448692-2e9d-4323-b376-328f16722c5d",
   "metadata": {},
   "outputs": [
    {
     "data": {
      "image/png": "[encoded data removed]",
      "text/plain": [
       "<Figure size 1500x900 with 1 Axes>"
      ]
     },
     "metadata": {},
     "output_type": "display_data"
    }
   ],
   "source": [
    "# Quick visualization\n",
    "plot_options = {\"node_size\": 5, \"with_labels\": False, \"width\": 0.15}\n",
    "pos = nx.spring_layout(g, iterations=15, seed=1721)\n",
    "fig, ax = plt.subplots(figsize=(15, 9))\n",
    "ax.axis(\"off\")\n",
    "nx.draw_networkx(g, pos=pos, ax=ax, **plot_options)"
   ]
  },
  {
   "cell_type": "code",
   "execution_count": null,
   "id": "1c05469b-7207-4641-ab31-e4f4d6b702f1",
   "metadata": {},
   "outputs": [],
   "source": []
  }
 ],
 "metadata": {
  "kernelspec": {
   "display_name": "ml",
   "language": "python",
   "name": "ml"
  },
  "language_info": {
   "codemirror_mode": {
    "name": "ipython",
    "version": 3
   },
   "file_extension": ".py",
   "mimetype": "text/x-python",
   "name": "python",
   "nbconvert_exporter": "python",
   "pygments_lexer": "ipython3",
   "version": "3.11.4"
  }
 },
 "nbformat": 4,
 "nbformat_minor": 5
}
