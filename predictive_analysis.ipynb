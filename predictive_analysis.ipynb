{
 "cells": [
  {
   "cell_type": "markdown",
   "id": "bdcf9ba8-2b7e-4d02-888e-29661157bcc5",
   "metadata": {},
   "source": [
    "# Finetuning SMILES-BERT\n",
    "\n",
    "Now that we've performed some dimension reduction and unsupervised learning on the smiles strings, I thought that it would be interesting to attempt some supervised learning methods including zero-shot learning from the SMILES-BERT embeddings and finetuning the language model to perform better on the downstream tasks"
   ]
  },
  {
   "cell_type": "code",
   "execution_count": 1,
   "id": "c4326e33-aeed-46a6-9c76-077d2c8baf1b",
   "metadata": {},
   "outputs": [
    {
     "name": "stdin",
     "output_type": "stream",
     "text": [
      "Once deleted, variables cannot be recovered. Proceed (y/[n])?  y\n"
     ]
    }
   ],
   "source": [
    "%reset"
   ]
  },
  {
   "cell_type": "code",
   "execution_count": 2,
   "id": "0f286f29-588b-46b9-b139-fb99156336c8",
   "metadata": {},
   "outputs": [
    {
     "name": "stdout",
     "output_type": "stream",
     "text": [
      "env: WANDB_PROJECT=smiles_bert_finetuning\n",
      "env: WANDB_LOG_MODEL=all\n"
     ]
    }
   ],
   "source": [
    "%env WANDB_PROJECT=smiles_bert_finetuning\n",
    "%env WANDB_LOG_MODEL=all"
   ]
  },
  {
   "cell_type": "code",
   "execution_count": 3,
   "id": "86c0669f-4bf9-41b9-b691-8ce0423e4eb8",
   "metadata": {},
   "outputs": [
    {
     "name": "stdout",
     "output_type": "stream",
     "text": [
      "Intel MKL WARNING: Support of Intel(R) Streaming SIMD Extensions 4.2 (Intel(R) SSE4.2) enabled only processors has been deprecated. Intel oneAPI Math Kernel Library 2025.0 will require Intel(R) Advanced Vector Extensions (Intel(R) AVX) instructions.\n",
      "Intel MKL WARNING: Support of Intel(R) Streaming SIMD Extensions 4.2 (Intel(R) SSE4.2) enabled only processors has been deprecated. Intel oneAPI Math Kernel Library 2025.0 will require Intel(R) Advanced Vector Extensions (Intel(R) AVX) instructions.\n"
     ]
    },
    {
     "name": "stderr",
     "output_type": "stream",
     "text": [
      "/Users/stephenlu/anaconda3/envs/ml/lib/python3.11/site-packages/tqdm/auto.py:21: TqdmWarning: IProgress not found. Please update jupyter and ipywidgets. See https://ipywidgets.readthedocs.io/en/stable/user_install.html\n",
      "  from .autonotebook import tqdm as notebook_tqdm\n"
     ]
    }
   ],
   "source": [
    "import pandas as pd\n",
    "import numpy as np\n",
    "import matplotlib.pyplot as plt\n",
    "from tqdm import tqdm\n",
    "\n",
    "import torch\n",
    "import wandb\n",
    "import datasets\n",
    "from sklearn.model_selection import train_test_split\n",
    "from transformers import AutoTokenizer, AutoModelForMaskedLM\n",
    "from optimum.bettertransformer import BetterTransformer\n",
    "\n",
    "tqdm.pandas()\n",
    "device = torch.device(\"mps\" if torch.backends.mps.is_available() else \"cpu\")"
   ]
  },
  {
   "cell_type": "code",
   "execution_count": 51,
   "id": "cf61878d-e4b8-4767-a311-f1ee25f24542",
   "metadata": {},
   "outputs": [
    {
     "data": {
      "text/plain": [
       "True"
      ]
     },
     "execution_count": 51,
     "metadata": {},
     "output_type": "execute_result"
    }
   ],
   "source": [
    "wandb.login()"
   ]
  },
  {
   "cell_type": "code",
   "execution_count": 52,
   "id": "cd6e2b99-8f9c-472d-b240-0e236accbcc9",
   "metadata": {},
   "outputs": [
    {
     "name": "stderr",
     "output_type": "stream",
     "text": [
      "/var/folders/ln/wx93hvrs02d003t516fpf0xc0000gn/T/ipykernel_42456/133091856.py:1: DtypeWarning: Columns (3,4,5,6,12,13,14,15) have mixed types. Specify dtype option on import or set low_memory=False.\n",
      "  compounds = pd.read_csv('data/Compound.csv', header=0, index_col=0)\n"
     ]
    }
   ],
   "source": [
    "compounds = pd.read_csv('data/Compound.csv', header=0, index_col=0)\n",
    "\n",
    "flavor_content = pd.read_csv('data/CompoundsFlavor.csv', header=0, index_col=0)\n",
    "flavors = pd.read_csv('data/Flavor.csv', header=0, index_col=0)\n",
    "\n",
    "ontology_content = pd.read_csv('data/CompoundOntologyTerm.csv', header=0, index_col=0)\n",
    "ontology = pd.read_csv('data/OntologyTerm.csv', header=0, index_col=0)\n",
    "\n",
    "health_content = pd.read_csv('data/CompoundsHealthEffect.csv', header=0, index_col=0)\n",
    "health = pd.read_csv('data/HealthEffect.csv', header=0, index_col=0)"
   ]
  },
  {
   "cell_type": "code",
   "execution_count": 53,
   "id": "b4fe95e7-8119-4743-bc41-94e6071a2f50",
   "metadata": {},
   "outputs": [],
   "source": [
    "cur_content = flavor_content\n",
    "cur_df = flavors\n",
    "id_col = 'superklass'"
   ]
  },
  {
   "cell_type": "code",
   "execution_count": 54,
   "id": "86ee1c7e-a79a-43f7-a80a-f88acce5eb12",
   "metadata": {},
   "outputs": [
    {
     "data": {
      "text/plain": [
       "10239"
      ]
     },
     "execution_count": 54,
     "metadata": {},
     "output_type": "execute_result"
    }
   ],
   "source": [
    "smiles = compounds.merge(cur_content, left_index=True, right_on=\"compound_id\")\n",
    "smiles = smiles[smiles['compound_id'] != 29634]\n",
    "len(smiles)"
   ]
  },
  {
   "cell_type": "code",
   "execution_count": 55,
   "id": "660f053a-5ac1-4b31-8fbb-8f45d0bf2596",
   "metadata": {},
   "outputs": [
    {
     "data": {
      "text/plain": [
       "superklass\n",
       "Alkaloids and derivatives                    8\n",
       "Benzenoids                                 678\n",
       "Homogeneous non-metal compounds              5\n",
       "Hydrocarbon derivatives                     19\n",
       "Hydrocarbons                                15\n",
       "Lipids and lipid-like molecules            884\n",
       "Nucleosides, nucleotides, and analogues      3\n",
       "Organic acids and derivatives              259\n",
       "Organoheterocyclic compounds               448\n",
       "Organonitrogen compounds                    21\n",
       "Organooxygen compounds                     619\n",
       "Organosulfur compounds                     156\n",
       "Phenylpropanoids and polyketides           124\n",
       "Name: superklass, dtype: int64"
      ]
     },
     "execution_count": 55,
     "metadata": {},
     "output_type": "execute_result"
    }
   ],
   "source": [
    "smiles = smiles.dropna(subset=['cas_number', id_col])\n",
    "top_terms = smiles.groupby([id_col])[id_col].count()\n",
    "top_terms"
   ]
  },
  {
   "cell_type": "code",
   "execution_count": 56,
   "id": "faa8ff40-4c56-4de0-8e59-99566eff08b9",
   "metadata": {},
   "outputs": [
    {
     "data": {
      "text/html": [
       "<div>\n",
       "<style scoped>\n",
       "    .dataframe tbody tr th:only-of-type {\n",
       "        vertical-align: middle;\n",
       "    }\n",
       "\n",
       "    .dataframe tbody tr th {\n",
       "        vertical-align: top;\n",
       "    }\n",
       "\n",
       "    .dataframe thead th {\n",
       "        text-align: right;\n",
       "    }\n",
       "</style>\n",
       "<table border=\"1\" class=\"dataframe\">\n",
       "  <thead>\n",
       "    <tr style=\"text-align: right;\">\n",
       "      <th></th>\n",
       "      <th>superklass</th>\n",
       "      <th>name</th>\n",
       "      <th>flavor_group</th>\n",
       "      <th>category</th>\n",
       "      <th>created_at</th>\n",
       "      <th>updated_at</th>\n",
       "      <th>creator_id</th>\n",
       "      <th>updater_id</th>\n",
       "    </tr>\n",
       "  </thead>\n",
       "  <tbody>\n",
       "  </tbody>\n",
       "</table>\n",
       "</div>"
      ],
      "text/plain": [
       "Empty DataFrame\n",
       "Columns: [superklass, name, flavor_group, category, created_at, updated_at, creator_id, updater_id]\n",
       "Index: []"
      ]
     },
     "execution_count": 56,
     "metadata": {},
     "output_type": "execute_result"
    }
   ],
   "source": [
    "t = top_terms.to_frame()\n",
    "final_df = t.merge(cur_df, left_index=True, right_index=True)\n",
    "final_df.nlargest(10, id_col)"
   ]
  },
  {
   "cell_type": "code",
   "execution_count": 57,
   "id": "d89d6cc7-da1d-4a23-9610-63f8174094c8",
   "metadata": {},
   "outputs": [],
   "source": [
    "targets = top_terms.nlargest(7)\n",
    "smiles = smiles[smiles[id_col].isin(targets.index)]"
   ]
  },
  {
   "cell_type": "code",
   "execution_count": 58,
   "id": "373eee24-1878-4053-a012-abc527099ffe",
   "metadata": {},
   "outputs": [
    {
     "name": "stderr",
     "output_type": "stream",
     "text": [
      "/var/folders/ln/wx93hvrs02d003t516fpf0xc0000gn/T/ipykernel_42456/4056994991.py:3: SettingWithCopyWarning: \n",
      "A value is trying to be set on a copy of a slice from a DataFrame.\n",
      "Try using .loc[row_indexer,col_indexer] = value instead\n",
      "\n",
      "See the caveats in the documentation: https://pandas.pydata.org/pandas-docs/stable/user_guide/indexing.html#returning-a-view-versus-a-copy\n",
      "  df_final[id_col] = df_final[id_col].apply(lambda x: target_idx.index(x))\n",
      "/var/folders/ln/wx93hvrs02d003t516fpf0xc0000gn/T/ipykernel_42456/4056994991.py:4: SettingWithCopyWarning: \n",
      "A value is trying to be set on a copy of a slice from a DataFrame\n",
      "\n",
      "See the caveats in the documentation: https://pandas.pydata.org/pandas-docs/stable/user_guide/indexing.html#returning-a-view-versus-a-copy\n",
      "  df_final.rename(columns={id_col: 'label', 'cas_number': 'sequence'}, inplace=True)\n",
      "/var/folders/ln/wx93hvrs02d003t516fpf0xc0000gn/T/ipykernel_42456/4056994991.py:5: SettingWithCopyWarning: \n",
      "A value is trying to be set on a copy of a slice from a DataFrame\n",
      "\n",
      "See the caveats in the documentation: https://pandas.pydata.org/pandas-docs/stable/user_guide/indexing.html#returning-a-view-versus-a-copy\n",
      "  df_final.dropna(inplace=True)\n"
     ]
    }
   ],
   "source": [
    "target_idx = list(targets.index)\n",
    "df_final = smiles[['cas_number', id_col]]\n",
    "df_final[id_col] = df_final[id_col].apply(lambda x: target_idx.index(x))\n",
    "df_final.rename(columns={id_col: 'label', 'cas_number': 'sequence'}, inplace=True)\n",
    "df_final.dropna(inplace=True)"
   ]
  },
  {
   "cell_type": "code",
   "execution_count": 59,
   "id": "047992b0-6756-4c17-a008-3277083d406e",
   "metadata": {},
   "outputs": [
    {
     "data": {
      "text/plain": [
       "<Axes: >"
      ]
     },
     "execution_count": 59,
     "metadata": {},
     "output_type": "execute_result"
    },
    {
     "data": {
      "image/png": "[encoded data removed]",
      "text/plain": [
       "<Figure size 640x480 with 1 Axes>"
      ]
     },
     "metadata": {},
     "output_type": "display_data"
    }
   ],
   "source": [
    "# Plot the class distribution\n",
    "df_final['label'].hist()"
   ]
  },
  {
   "cell_type": "markdown",
   "id": "558339ca-07b8-40d2-bda0-febb49c1be6e",
   "metadata": {},
   "source": [
    "## Create train, val, test split & Tokenize"
   ]
  },
  {
   "cell_type": "code",
   "execution_count": 60,
   "id": "0e2aceca-67c8-4c70-8929-bb6c88784a4a",
   "metadata": {},
   "outputs": [],
   "source": [
    "dataset = datasets.Dataset.from_pandas(df_final)\n",
    "dataset = dataset.train_test_split(test_size=0.2)\n",
    "test_valid = dataset['test'].train_test_split(test_size=0.5)\n",
    "dataset = datasets.DatasetDict({\n",
    "    'train': dataset['train'],\n",
    "    'valid': test_valid['train'],\n",
    "    'test': test_valid['test']\n",
    "})"
   ]
  },
  {
   "cell_type": "code",
   "execution_count": 61,
   "id": "8a842e97-39c1-49a0-bbd2-597541a54db8",
   "metadata": {},
   "outputs": [
    {
     "data": {
      "text/plain": [
       "{'sequence': 'CC(=O)OCCC1=CC=CC=C1', 'label': 1, 'id': 741}"
      ]
     },
     "execution_count": 61,
     "metadata": {},
     "output_type": "execute_result"
    }
   ],
   "source": [
    "dataset['train'][200]"
   ]
  },
  {
   "cell_type": "code",
   "execution_count": 62,
   "id": "ed092fb5-9b77-4d5a-b91e-2e870101ad60",
   "metadata": {},
   "outputs": [],
   "source": [
    "tokenizer = AutoTokenizer.from_pretrained(\"seyonec/PubChem10M_SMILES_BPE_450k\", use_fast=True)\n",
    "\n",
    "def tokenize_function(examples):\n",
    "    return tokenizer(examples[\"sequence\"], padding=\"max_length\", truncation=True)"
   ]
  },
  {
   "cell_type": "code",
   "execution_count": 63,
   "id": "739c9b85-013a-42b9-b728-8a3c8fb2b97c",
   "metadata": {},
   "outputs": [
    {
     "name": "stderr",
     "output_type": "stream",
     "text": [
      "Map:   0%|                                      | 0/2534 [00:00<?, ? examples/s]Asking to pad to max_length but no maximum length is provided and the model has no predefined maximum length. Default to no padding.\n",
      "Asking to truncate to max_length but no maximum length is provided and the model has no predefined maximum length. Default to no truncation.\n",
      "Map: 100%|████████████████████████| 2534/2534 [00:00<00:00, 36241.51 examples/s]\n",
      "Map: 100%|██████████████████████████| 317/317 [00:00<00:00, 30300.69 examples/s]\n",
      "Map: 100%|██████████████████████████| 317/317 [00:00<00:00, 31296.36 examples/s]\n"
     ]
    }
   ],
   "source": [
    "tokenized_datasets = dataset.map(tokenize_function, batched=True)"
   ]
  },
  {
   "cell_type": "code",
   "execution_count": 64,
   "id": "ed6f6ea0-fc37-470e-8e4b-b27a686cad8b",
   "metadata": {},
   "outputs": [
    {
     "data": {
      "text/plain": [
       "(317, 5)"
      ]
     },
     "execution_count": 64,
     "metadata": {},
     "output_type": "execute_result"
    }
   ],
   "source": [
    "tokenized_datasets['valid'].shape"
   ]
  },
  {
   "cell_type": "markdown",
   "id": "1b1de7e3-e74c-4e9e-9249-d51982558cbf",
   "metadata": {},
   "source": [
    "## Training the model"
   ]
  },
  {
   "cell_type": "code",
   "execution_count": 65,
   "id": "10ad3aea-960e-42ae-bff7-472b81acfdfe",
   "metadata": {},
   "outputs": [],
   "source": [
    "from transformers import TrainingArguments\n",
    "from transformers import AutoModelForSequenceClassification\n",
    "from transformers import TrainingArguments, Trainer\n",
    "import evaluate"
   ]
  },
  {
   "cell_type": "code",
   "execution_count": 66,
   "id": "9366b68c-6fb0-4541-89d7-56535a307036",
   "metadata": {},
   "outputs": [
    {
     "name": "stderr",
     "output_type": "stream",
     "text": [
      "Some weights of RobertaForSequenceClassification were not initialized from the model checkpoint at seyonec/PubChem10M_SMILES_BPE_450k and are newly initialized: ['classifier.dense.bias', 'classifier.out_proj.weight', 'classifier.out_proj.bias', 'classifier.dense.weight']\n",
      "You should probably TRAIN this model on a down-stream task to be able to use it for predictions and inference.\n"
     ]
    }
   ],
   "source": [
    "model = AutoModelForSequenceClassification.from_pretrained(\"seyonec/PubChem10M_SMILES_BPE_450k\", num_labels=len(targets))"
   ]
  },
  {
   "cell_type": "code",
   "execution_count": 67,
   "id": "86d6df2f-4778-49d6-8cea-433158513b98",
   "metadata": {},
   "outputs": [],
   "source": [
    "metric = evaluate.load(\"accuracy\")\n",
    "\n",
    "def compute_metrics(eval_pred):\n",
    "    logits, labels = eval_pred\n",
    "    predictions = np.argmax(logits, axis=-1)\n",
    "    return metric.compute(predictions=predictions, references=labels)"
   ]
  },
  {
   "cell_type": "code",
   "execution_count": 70,
   "id": "9a31856d-64e2-4f36-90a8-a42f57d59836",
   "metadata": {},
   "outputs": [
    {
     "ename": "TypeError",
     "evalue": "Trainer.__init__() got an unexpected keyword argument 'test_dataset'",
     "output_type": "error",
     "traceback": [
      "\u001b[0;31m---------------------------------------------------------------------------\u001b[0m",
      "\u001b[0;31mTypeError\u001b[0m                                 Traceback (most recent call last)",
      "Cell \u001b[0;32mIn[70], line 18\u001b[0m\n\u001b[1;32m      1\u001b[0m training_args \u001b[38;5;241m=\u001b[39m TrainingArguments(\n\u001b[1;32m      2\u001b[0m     output_dir\u001b[38;5;241m=\u001b[39m\u001b[38;5;124m\"\u001b[39m\u001b[38;5;124mresults/finetuning/superklass\u001b[39m\u001b[38;5;124m\"\u001b[39m,\n\u001b[1;32m      3\u001b[0m     evaluation_strategy\u001b[38;5;241m=\u001b[39m\u001b[38;5;124m\"\u001b[39m\u001b[38;5;124mepoch\u001b[39m\u001b[38;5;124m\"\u001b[39m,\n\u001b[0;32m   (...)\u001b[0m\n\u001b[1;32m     15\u001b[0m     run_name\u001b[38;5;241m=\u001b[39m\u001b[38;5;124m\"\u001b[39m\u001b[38;5;124msuperklass-classifier-top-7\u001b[39m\u001b[38;5;124m\"\u001b[39m\n\u001b[1;32m     16\u001b[0m )\n\u001b[0;32m---> 18\u001b[0m trainer \u001b[38;5;241m=\u001b[39m Trainer(\n\u001b[1;32m     19\u001b[0m     model\u001b[38;5;241m=\u001b[39mmodel,\n\u001b[1;32m     20\u001b[0m     args\u001b[38;5;241m=\u001b[39mtraining_args,\n\u001b[1;32m     21\u001b[0m     train_dataset\u001b[38;5;241m=\u001b[39mtokenized_datasets[\u001b[38;5;124m'\u001b[39m\u001b[38;5;124mtrain\u001b[39m\u001b[38;5;124m'\u001b[39m],\n\u001b[1;32m     22\u001b[0m     eval_dataset\u001b[38;5;241m=\u001b[39mtokenized_datasets[\u001b[38;5;124m'\u001b[39m\u001b[38;5;124mvalid\u001b[39m\u001b[38;5;124m'\u001b[39m],\n\u001b[1;32m     23\u001b[0m     test_dataset\u001b[38;5;241m=\u001b[39mtokenized_datasets[\u001b[38;5;124m'\u001b[39m\u001b[38;5;124mtest\u001b[39m\u001b[38;5;124m'\u001b[39m],\n\u001b[1;32m     24\u001b[0m     compute_metrics\u001b[38;5;241m=\u001b[39mcompute_metrics,\n\u001b[1;32m     25\u001b[0m     tokenizer\u001b[38;5;241m=\u001b[39mtokenizer,\n\u001b[1;32m     26\u001b[0m )\n\u001b[1;32m     28\u001b[0m trainer\u001b[38;5;241m.\u001b[39mtrain()\n",
      "\u001b[0;31mTypeError\u001b[0m: Trainer.__init__() got an unexpected keyword argument 'test_dataset'"
     ]
    }
   ],
   "source": [
    "training_args = TrainingArguments(\n",
    "    output_dir=\"results/finetuning/superklass\",\n",
    "    evaluation_strategy=\"epoch\",\n",
    "    save_strategy = \"epoch\",\n",
    "    learning_rate=2e-5,\n",
    "    weight_decay=0.01,\n",
    "    per_device_train_batch_size=16,\n",
    "    per_device_eval_batch_size=16,\n",
    "    num_train_epochs=5,\n",
    "    load_best_model_at_end=True,\n",
    "    metric_for_best_model=\"accuracy\",\n",
    "    push_to_hub=False,\n",
    "    logging_steps=100,\n",
    "    report_to=\"wandb\",\n",
    "    run_name=\"superklass-classifier-top-7\"\n",
    ")\n",
    "\n",
    "trainer = Trainer(\n",
    "    model=model,\n",
    "    args=training_args,\n",
    "    train_dataset=tokenized_datasets['train'],\n",
    "    eval_dataset=tokenized_datasets['valid'],\n",
    "    compute_metrics=compute_metrics,\n",
    "    tokenizer=tokenizer,\n",
    ")\n",
    "\n",
    "trainer.train()"
   ]
  },
  {
   "cell_type": "code",
   "execution_count": null,
   "id": "a91dc5cb-d215-47a2-961c-1a910d98a489",
   "metadata": {},
   "outputs": [],
   "source": [
    "trainer.evaluate(tokenized_datasets['test'])\n",
    "wandb.finish()"
   ]
  },
  {
   "cell_type": "markdown",
   "id": "7de08f5f-701d-4e6f-9ce1-833c83dfea13",
   "metadata": {},
   "source": [
    "## Re-Visualize with new embeddings"
   ]
  },
  {
   "cell_type": "code",
   "execution_count": 21,
   "id": "2a30adef-cec4-48ac-b17d-305f079c18d9",
   "metadata": {},
   "outputs": [
    {
     "data": {
      "text/plain": [
       "RobertaForSequenceClassification(\n",
       "  (roberta): RobertaModel(\n",
       "    (embeddings): RobertaEmbeddings(\n",
       "      (word_embeddings): Embedding(52000, 768, padding_idx=1)\n",
       "      (position_embeddings): Embedding(512, 768, padding_idx=1)\n",
       "      (token_type_embeddings): Embedding(1, 768)\n",
       "      (LayerNorm): LayerNorm((768,), eps=1e-12, elementwise_affine=True)\n",
       "      (dropout): Dropout(p=0.1, inplace=False)\n",
       "    )\n",
       "    (encoder): RobertaEncoder(\n",
       "      (layer): ModuleList(\n",
       "        (0-5): 6 x RobertaLayer(\n",
       "          (attention): RobertaAttention(\n",
       "            (self): RobertaSelfAttention(\n",
       "              (query): Linear(in_features=768, out_features=768, bias=True)\n",
       "              (key): Linear(in_features=768, out_features=768, bias=True)\n",
       "              (value): Linear(in_features=768, out_features=768, bias=True)\n",
       "              (dropout): Dropout(p=0.1, inplace=False)\n",
       "            )\n",
       "            (output): RobertaSelfOutput(\n",
       "              (dense): Linear(in_features=768, out_features=768, bias=True)\n",
       "              (LayerNorm): LayerNorm((768,), eps=1e-12, elementwise_affine=True)\n",
       "              (dropout): Dropout(p=0.1, inplace=False)\n",
       "            )\n",
       "          )\n",
       "          (intermediate): RobertaIntermediate(\n",
       "            (dense): Linear(in_features=768, out_features=3072, bias=True)\n",
       "            (intermediate_act_fn): GELUActivation()\n",
       "          )\n",
       "          (output): RobertaOutput(\n",
       "            (dense): Linear(in_features=3072, out_features=768, bias=True)\n",
       "            (LayerNorm): LayerNorm((768,), eps=1e-12, elementwise_affine=True)\n",
       "            (dropout): Dropout(p=0.1, inplace=False)\n",
       "          )\n",
       "        )\n",
       "      )\n",
       "    )\n",
       "  )\n",
       "  (classifier): RobertaClassificationHead(\n",
       "    (dense): Linear(in_features=768, out_features=768, bias=True)\n",
       "    (dropout): Dropout(p=0.1, inplace=False)\n",
       "    (out_proj): Linear(in_features=768, out_features=7, bias=True)\n",
       "  )\n",
       ")"
      ]
     },
     "execution_count": 21,
     "metadata": {},
     "output_type": "execute_result"
    }
   ],
   "source": [
    "# Load the model from a checkpoint\n",
    "\n",
    "model = AutoModelForSequenceClassification.from_pretrained(\"results/finetuning/superklass/checkpoint-636\", num_labels=len(targets))\n",
    "model.to(device)"
   ]
  },
  {
   "cell_type": "code",
   "execution_count": 22,
   "id": "ab8d0cad-42f3-4ede-880c-a65e1397a79d",
   "metadata": {},
   "outputs": [],
   "source": [
    "def get_embeddings(smiles_string: str):\n",
    "    inputs = tokenizer(smiles_string, return_tensors=\"pt\", padding=\"max_length\", truncation=True).to('mps')    \n",
    "    cls_token_id = tokenizer.cls_token_id\n",
    "    hidden_st = model(**inputs, output_hidden_states=True).hidden_states  \n",
    "    return hidden_st[-1][0, cls_token_id, :]\n",
    "\n",
    "def chunker(seq, size):\n",
    "    return (seq[pos:pos + size] for pos in range(0, len(seq), size))"
   ]
  },
  {
   "cell_type": "code",
   "execution_count": 23,
   "id": "d9fb3ced-e717-4b69-a3de-5b997d063ee7",
   "metadata": {},
   "outputs": [
    {
     "name": "stderr",
     "output_type": "stream",
     "text": [
      "100%|███████████████████████████████████████| 3168/3168 [01:24<00:00, 37.69it/s]\n"
     ]
    }
   ],
   "source": [
    "smiles_embeds = smiles['cas_number'].progress_apply(get_embeddings)"
   ]
  },
  {
   "cell_type": "code",
   "execution_count": 25,
   "id": "88c3bc0b-ca22-4e36-99b6-0662b18e0c07",
   "metadata": {},
   "outputs": [],
   "source": [
    "from sklearn.decomposition import PCA\n",
    "\n",
    "# smiles_embeds.dropna(inplace=True)\n",
    "# X = [x.cpu().detach().numpy() for x in smiles_embeds]\n",
    "y = np.array(smiles['superklass'].fillna('unknown'))\n",
    "\n",
    "# These are the kingdom labels that we will use for clustering\n",
    "target_names, y = np.unique(y, return_inverse=True)\n",
    "\n",
    "# Run pca\n",
    "pca = PCA(n_components=2)\n",
    "X_r = pca.fit(X).transform(X)\n",
    "\n",
    "# Get plot\n",
    "values = list(range(len(target_names)))\n",
    "cmap = plt.colormaps['tab10']\n",
    "colors = cmap.colors[:len(target_names)]\n",
    "lw = 1.2\n",
    "\n",
    "# Plot details\n",
    "plot_title = \"PCA of superklass after finetuning (top7)\"\n",
    "plot_filename = \"results/plots/pca_compound_superklass_finetuned_top7.png\""
   ]
  },
  {
   "cell_type": "code",
   "execution_count": 26,
   "id": "3a2b0ba6-3619-4ba2-af6b-817ed8015fb4",
   "metadata": {},
   "outputs": [
    {
     "data": {
      "image/png": "[encoded data removed]",
      "text/plain": [
       "<Figure size 640x480 with 1 Axes>"
      ]
     },
     "metadata": {},
     "output_type": "display_data"
    }
   ],
   "source": [
    "# Plot data\n",
    "plt.figure()\n",
    "for color, i, target_name in zip(colors, values, target_names):\n",
    "    plt.scatter(\n",
    "        X_r[y == i, 0], X_r[y == i, 1], s=10, color=color, alpha=0.8, lw=lw, label=target_name\n",
    "    )\n",
    "plt.legend(loc=(1.04, 0), shadow=False, scatterpoints=1)\n",
    "plt.title(plot_title)\n",
    "plt.savefig(plot_filename, bbox_inches='tight')"
   ]
  },
  {
   "cell_type": "code",
   "execution_count": 27,
   "id": "1ed6368e-8c98-412c-875c-a05ad2416a97",
   "metadata": {},
   "outputs": [
    {
     "name": "stdout",
     "output_type": "stream",
     "text": [
      "explained variance ratio (first two components): [0.27633407 0.22840783]\n"
     ]
    }
   ],
   "source": [
    "# Percentage of variance explained for each components\n",
    "print(\n",
    "    \"explained variance ratio (first two components): %s\"\n",
    "    % str(pca.explained_variance_ratio_)\n",
    ")"
   ]
  },
  {
   "cell_type": "code",
   "execution_count": null,
   "id": "a9435726-a8f9-4136-b5df-d4a9df3c8da0",
   "metadata": {},
   "outputs": [],
   "source": []
  }
 ],
 "metadata": {
  "kernelspec": {
   "display_name": "ml",
   "language": "python",
   "name": "ml"
  },
  "language_info": {
   "codemirror_mode": {
    "name": "ipython",
    "version": 3
   },
   "file_extension": ".py",
   "mimetype": "text/x-python",
   "name": "python",
   "nbconvert_exporter": "python",
   "pygments_lexer": "ipython3",
   "version": "3.11.4"
  }
 },
 "nbformat": 4,
 "nbformat_minor": 5
}
