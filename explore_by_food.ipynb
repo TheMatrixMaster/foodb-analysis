{
 "cells": [
  {
   "cell_type": "markdown",
   "id": "0715956e-1f24-4d4f-be4c-0ab960a65632",
   "metadata": {},
   "source": [
    "## Imports"
   ]
  },
  {
   "cell_type": "code",
   "execution_count": 389,
   "id": "3314e0fa-7497-4334-9f67-7ee6d4167a27",
   "metadata": {},
   "outputs": [],
   "source": [
    "import networkx as nx\n",
    "import pandas as pd\n",
    "import numpy as np\n",
    "import matplotlib.pyplot as plt\n",
    "import difflib\n",
    "from tqdm import tqdm\n",
    "from utils import *"
   ]
  },
  {
   "cell_type": "markdown",
   "id": "2a5a6c07-52e8-4b32-945c-6ddadf64c286",
   "metadata": {},
   "source": [
    "## Load data"
   ]
  },
  {
   "cell_type": "code",
   "execution_count": 2,
   "id": "f974c586-6210-4733-93dc-79f49a38907e",
   "metadata": {},
   "outputs": [
    {
     "name": "stderr",
     "output_type": "stream",
     "text": [
      "/var/folders/ln/wx93hvrs02d003t516fpf0xc0000gn/T/ipykernel_70942/3428497312.py:2: DtypeWarning: Columns (3,4,5,6,12,13,14,15) have mixed types. Specify dtype option on import or set low_memory=False.\n",
      "  compounds = pd.read_csv('data/Compound.csv', header=0, index_col=0)\n",
      "/var/folders/ln/wx93hvrs02d003t516fpf0xc0000gn/T/ipykernel_70942/3428497312.py:3: DtypeWarning: Columns (4,5,6,7,8,9,13,14,21,22,24) have mixed types. Specify dtype option on import or set low_memory=False.\n",
      "  content = pd.read_csv('data/Content.csv', header=0, index_col=0)\n"
     ]
    }
   ],
   "source": [
    "foods = pd.read_csv('data/Food.csv', header=0, index_col=0)\n",
    "compounds = pd.read_csv('data/Compound.csv', header=0, index_col=0)\n",
    "content = pd.read_csv('data/Content.csv', header=0, index_col=0)"
   ]
  },
  {
   "cell_type": "markdown",
   "id": "ff2f1ca1-7339-4458-8910-478b42691b4e",
   "metadata": {},
   "source": [
    "## Processing the Data"
   ]
  },
  {
   "cell_type": "code",
   "execution_count": 3,
   "id": "609d17ee-a441-4284-aab7-9af9b2fcd96c",
   "metadata": {},
   "outputs": [],
   "source": [
    "# This step is done for subgraph processing. In this example I only want to process the Vegetable food category\n",
    "foods = foods[foods['food_group'] == 'Vegetables']"
   ]
  },
  {
   "cell_type": "code",
   "execution_count": 4,
   "id": "f55b5db6-b76e-4ec2-b182-195a118a95be",
   "metadata": {},
   "outputs": [
    {
     "name": "stdout",
     "output_type": "stream",
     "text": [
      "the maximum number of compounds in one food is:  6131\n",
      "the maximum number of foods per compound is:  143\n"
     ]
    }
   ],
   "source": [
    "# Only keep relevant entries\n",
    "content = content[content['source_type'] == 'Compound']\n",
    "content = content[content['food_id'].isin(foods.index)]\n",
    "content = content[content['source_id'].isin(compounds.index)]\n",
    "\n",
    "# Only keep the compounds that are shared amongst the selected foods of interest\n",
    "relevant_compounds = content['source_id'].unique()\n",
    "compounds = compounds[compounds.index.isin(relevant_compounds)]\n",
    "\n",
    "# Content file reports all occurrences of a compound in a food by many organization, so we need to remove duplicates\n",
    "report_count = content.groupby(['food_id', 'source_id']).size().rename('report_count')\n",
    "content.drop_duplicates(subset=['food_id', 'source_id'], inplace=True)\n",
    "content = content.merge(report_count, left_on=['food_id', 'source_id'], right_index=True)\n",
    "\n",
    "# Add the number of compounds and foods to the foods and compounds dataframes\n",
    "foods = foods.merge(content.groupby('food_id').size().rename('num_compounds'), left_index=True, right_index=True)\n",
    "compounds = compounds.merge(content.groupby('source_id').size().rename('num_foods'), left_index=True, right_index=True)\n",
    "compounds.sort_values(by=['num_foods'], ascending=False, inplace=True)\n",
    "\n",
    "print(\"the maximum number of compounds in one food is: \", foods['num_compounds'].max())\n",
    "print(\"the maximum number of foods per compound is: \", compounds['num_foods'].max())"
   ]
  },
  {
   "cell_type": "code",
   "execution_count": 5,
   "id": "b260db1a-2814-47b9-a80d-51c7588a7c20",
   "metadata": {},
   "outputs": [
    {
     "data": {
      "text/plain": [
       "count    9259.000000\n",
       "mean       83.020197\n",
       "std        64.571662\n",
       "min         1.000000\n",
       "25%         3.000000\n",
       "50%       128.000000\n",
       "75%       138.000000\n",
       "max       143.000000\n",
       "Name: num_foods, dtype: float64"
      ]
     },
     "execution_count": 5,
     "metadata": {},
     "output_type": "execute_result"
    }
   ],
   "source": [
    "compounds['num_foods'].describe()"
   ]
  },
  {
   "cell_type": "code",
   "execution_count": 44,
   "id": "0a6189ec-b3b5-4815-a04c-c6ef0274497a",
   "metadata": {},
   "outputs": [
    {
     "name": "stdout",
     "output_type": "stream",
     "text": [
      "(1500, 16)\n",
      "(768684, 26)\n",
      "(5011, 26)\n"
     ]
    }
   ],
   "source": [
    "## There are way too many compounds for our graph, so let's keep the most relevant compounds\n",
    "#  I'm not interested in compounds that only exist in a single food item since that doesn't tell us anything about relationships in our graph\n",
    "#  I'm also not very interested in compounds that are shared by the vast majority of foods since that information just makes the graph connected\n",
    "\n",
    "n = compounds[compounds['num_foods'] > 1]\n",
    "n = n[n['num_foods'] < n['num_foods'].quantile(.99)]\n",
    "n = n[-1500:]\n",
    "\n",
    "m = content[content['source_id'].isin(n.index)]\n",
    "\n",
    "print(n.shape)\n",
    "print(content.shape)\n",
    "print(m.shape)"
   ]
  },
  {
   "cell_type": "markdown",
   "id": "56100b8b-0e05-410d-af9b-e1bc811a5da5",
   "metadata": {},
   "source": [
    "## Create the graph"
   ]
  },
  {
   "cell_type": "code",
   "execution_count": 45,
   "id": "71a8ed25-2112-4f32-81ae-a3090f3cbc77",
   "metadata": {},
   "outputs": [
    {
     "name": "stderr",
     "output_type": "stream",
     "text": [
      "100%|█████████████████████████████████████████| 145/145 [00:03<00:00, 38.81it/s]\n"
     ]
    }
   ],
   "source": [
    "# Create the weighted edgelist where the weight between two foods is equal to the number of compounds they share\n",
    "edgelist = []\n",
    "food_idx = foods.index\n",
    "\n",
    "for i in tqdm(range(len(food_idx))):\n",
    "    for j in range(i+1, len(food_idx)):\n",
    "        food1 = food_idx[i]\n",
    "        food2 = food_idx[j]\n",
    "        \n",
    "        # Get the compounds that are in both foods\n",
    "        cur_comp = m[m['food_id'].isin([food1, food2])]['source_id']        \n",
    "        cur_comp = cur_comp[cur_comp.duplicated(keep=False)] \\\n",
    "                    .drop_duplicates().reset_index(drop=True)\n",
    "        \n",
    "        # If foods don't share compounds, then we skip\n",
    "        if len(cur_comp) == 0:\n",
    "            continue\n",
    "\n",
    "        # To normalize the edge weight, we will scale back the weight of each compound by the number of foods it is in\n",
    "        weight = sum([1/n.loc[c, 'num_foods'] for c in cur_comp.values])\n",
    "\n",
    "        # Add weight to the edgelist\n",
    "        edgelist.append((food1, food2, {'weight': weight}))        "
   ]
  },
  {
   "cell_type": "code",
   "execution_count": 46,
   "id": "2f7e41ec-f51c-473a-b40c-e73f8299f93c",
   "metadata": {},
   "outputs": [
    {
     "name": "stdout",
     "output_type": "stream",
     "text": [
      "total edges:  615\n"
     ]
    }
   ],
   "source": [
    "w = [v['weight'] for _, _, v in edgelist]\n",
    "print('total edges: ', len(w))"
   ]
  },
  {
   "cell_type": "code",
   "execution_count": 47,
   "id": "a5ab1790-6edc-4e3e-bdb4-5ecf301e322a",
   "metadata": {},
   "outputs": [
    {
     "data": {
      "image/png": "[encoded data removed]",
      "text/plain": [
       "<Figure size 640x480 with 1 Axes>"
      ]
     },
     "metadata": {},
     "output_type": "display_data"
    }
   ],
   "source": [
    "# Plot the histogram of edge weights\n",
    "weights = np.array([v['weight'] for _, _, v in edgelist])\n",
    "x = weights[~is_outlier(weights)]\n",
    "plt.hist(x, bins=100)\n",
    "plt.show()"
   ]
  },
  {
   "cell_type": "code",
   "execution_count": 48,
   "id": "1d1f491b-d45b-408e-acd8-db731e78732d",
   "metadata": {},
   "outputs": [
    {
     "name": "stdout",
     "output_type": "stream",
     "text": [
      "145\n",
      "615\n"
     ]
    }
   ],
   "source": [
    "# Create a graph\n",
    "g_nodes = foods.to_dict('index')\n",
    "g_nodes = [(k, v) for k, v in g_nodes.items()]\n",
    "\n",
    "g = nx.Graph()\n",
    "\n",
    "g.add_nodes_from(g_nodes)\n",
    "g.add_edges_from(edgelist)\n",
    "\n",
    "print(len(g.nodes))\n",
    "print(len(g.edges))"
   ]
  },
  {
   "cell_type": "code",
   "execution_count": 50,
   "id": "0251f234-77d5-4e54-8607-a89b8b1d907c",
   "metadata": {},
   "outputs": [],
   "source": [
    "nx.write_gexf(g, \"vegetables_graph_sparse.gexf\")"
   ]
  },
  {
   "cell_type": "code",
   "execution_count": 51,
   "id": "74899ccc-8626-43cf-a27b-a534c41c6f2e",
   "metadata": {},
   "outputs": [
    {
     "data": {
      "image/png": "[encoded data removed]",
      "text/plain": [
       "<Figure size 1500x900 with 1 Axes>"
      ]
     },
     "metadata": {},
     "output_type": "display_data"
    }
   ],
   "source": [
    "plot_options = {\"node_size\": 10, \"with_labels\": False, \"width\": 0.15}\n",
    "pos = nx.spring_layout(g, iterations=15, seed=1721)\n",
    "fig, ax = plt.subplots(figsize=(15, 9))\n",
    "ax.axis(\"off\")\n",
    "nx.draw_networkx(g, pos=pos, ax=ax, **plot_options)"
   ]
  },
  {
   "cell_type": "markdown",
   "id": "856f184d-5c47-4760-9686-e8ccbeae2b43",
   "metadata": {},
   "source": [
    "## Post Analysis"
   ]
  },
  {
   "cell_type": "markdown",
   "id": "b2c79d4b-4adb-46ab-bc5c-d906c7aceba1",
   "metadata": {},
   "source": [
    "First, I'd like to know which compounds are most enriched in which kinds of food. To do this, we can group the foods by food_type, and then look for the compounds that are found in each category of food.\n",
    "However, \"enriched\" can be measured in different ways:\n",
    "- We could look at breadth by choosing the compounds that are most often found in different foods of the food category\n",
    "- We could look at depth by choosing the compounds that are most \"concentrated\" in the food category\n",
    "- We could use a metric that captures both breadth and depth by scaling the concentration of each compound by the cohort size of the food category\n",
    "- We could look for compounds that are proportionally much more \"enriched\" in one food category with respect to other food categories\n",
    "\n",
    "Once we have these compounds aggregated by food category, we can then peek into the category and rank the individual foods by their individual contribution to the cohort compound metric"
   ]
  },
  {
   "cell_type": "code",
   "execution_count": 383,
   "id": "2fb4873d-2aa5-4fcf-b328-c37faea9344a",
   "metadata": {},
   "outputs": [
    {
     "name": "stderr",
     "output_type": "stream",
     "text": [
      "/var/folders/ln/wx93hvrs02d003t516fpf0xc0000gn/T/ipykernel_70942/3428497312.py:2: DtypeWarning: Columns (3,4,5,6,12,13,14,15) have mixed types. Specify dtype option on import or set low_memory=False.\n",
      "  compounds = pd.read_csv('data/Compound.csv', header=0, index_col=0)\n",
      "/var/folders/ln/wx93hvrs02d003t516fpf0xc0000gn/T/ipykernel_70942/3428497312.py:3: DtypeWarning: Columns (4,5,6,7,8,9,13,14,21,22,24) have mixed types. Specify dtype option on import or set low_memory=False.\n",
      "  content = pd.read_csv('data/Content.csv', header=0, index_col=0)\n"
     ]
    }
   ],
   "source": [
    "foods = pd.read_csv('data/Food.csv', header=0, index_col=0)\n",
    "compounds = pd.read_csv('data/Compound.csv', header=0, index_col=0)\n",
    "content = pd.read_csv('data/Content.csv', header=0, index_col=0)"
   ]
  },
  {
   "cell_type": "code",
   "execution_count": 384,
   "id": "93430ceb-5406-4450-95ff-917ca79998cf",
   "metadata": {},
   "outputs": [],
   "source": [
    "# Filter out compound observations that aren't related to our foods of interest\n",
    "content = content[content['source_type'] == 'Compound']\n",
    "content = content[content['food_id'].isin(foods.index)]\n",
    "\n",
    "# Filter out compound observations that aren't related to our compounds of interest\n",
    "content = content[content['source_id'].isin(compounds.index)]\n",
    "\n",
    "# Filter out compounds that aren't found in our foods of interest \n",
    "relevant_compounds = content['source_id'].unique()\n",
    "compounds = compounds[compounds.index.isin(relevant_compounds)]"
   ]
  },
  {
   "cell_type": "code",
   "execution_count": 385,
   "id": "f644d241-00e8-4433-a8d5-a2a84c0e3a97",
   "metadata": {},
   "outputs": [
    {
     "name": "stdout",
     "output_type": "stream",
     "text": [
      "There are 61287 compounds out of 85593 that are observed in the food list\n"
     ]
    }
   ],
   "source": [
    "print(\"There are %d compounds out of %d that are observed in the food list\" % (len(relevant_compounds), 85593))"
   ]
  },
  {
   "cell_type": "markdown",
   "id": "e514f7cf-cc3e-407f-bc4a-3a8829727b83",
   "metadata": {},
   "source": [
    "I noticed that there were many repeated observations of the same compound in the same food\n",
    "Thus, for a single food-compound pair, I need to batch the observations and choose a statistic to summarize the batch\n",
    "I decided to use the mean of the compound concentration for each batch in the column dubbed `orig_content`\n",
    "\n",
    "However, before moving forward, I realized that the compound concentration was being measured with different units in different experiments. So, I needed to either discard some units from consideration or find a way to re-normalize the units "
   ]
  },
  {
   "cell_type": "code",
   "execution_count": 386,
   "id": "775d1b12-095f-4d2c-8377-3f54cd307b7e",
   "metadata": {},
   "outputs": [
    {
     "data": {
      "image/png": "[encoded data removed]",
      "text/plain": [
       "<Figure size 640x480 with 1 Axes>"
      ]
     },
     "metadata": {},
     "output_type": "display_data"
    }
   ],
   "source": [
    "# Let's plot the prevalence of each unit type in a histogram\n",
    "content['orig_unit'].hist(bins=75)\n",
    "plt.xticks(rotation='vertical')\n",
    "plt.show()"
   ]
  },
  {
   "cell_type": "code",
   "execution_count": 387,
   "id": "8e32ea58-2650-472d-a931-1903769c8235",
   "metadata": {},
   "outputs": [
    {
     "data": {
      "text/plain": [
       "0.9320278112143152"
      ]
     },
     "execution_count": 387,
     "metadata": {},
     "output_type": "execute_result"
    }
   ],
   "source": [
    "# It seems that `mg/100g` is used most often\n",
    "# Let's see what percentage of the frame this metric covers\n",
    "counts = content['orig_unit'].value_counts()\n",
    "(counts['mg/100g'] + counts['mg/100 g']) / content['orig_unit'].count()"
   ]
  },
  {
   "cell_type": "code",
   "execution_count": 388,
   "id": "d5930738-2a95-474d-9d6a-584313a5c3a1",
   "metadata": {},
   "outputs": [],
   "source": [
    "# I think for this first run, I'm just gonna keep the rows that use the `mg/100g`\n",
    "# We can consider converting other units to this metric in the future\n",
    "content = content[content['orig_unit'].isin(['mg/100g', 'mg/100 g'])]\n",
    "content.dropna(subset=['orig_content'], inplace=True)"
   ]
  },
  {
   "cell_type": "markdown",
   "id": "2da12042-6417-4a89-b7de-7d82415ee2d9",
   "metadata": {},
   "source": [
    "## Analyzing the enrichment of compounds by food category"
   ]
  },
  {
   "cell_type": "code",
   "execution_count": 158,
   "id": "b6ccbb54-e091-43c7-b06d-5bef00d81957",
   "metadata": {},
   "outputs": [
    {
     "name": "stdout",
     "output_type": "stream",
     "text": [
      "Animal foods category has 1068/94934 unique compound observations and 107 unique compounds\n",
      "Aquatic foods category has 9749/32890 unique compound observations and 117 unique compounds\n",
      "Baby foods category has 106/14637 unique compound observations and 106 unique compounds\n",
      "Baking goods category has 2340/17779 unique compound observations and 138 unique compounds\n",
      "Beverages category has 2525/15752 unique compound observations and 519 unique compounds\n",
      "Cereals and cereal products category has 3690/56878 unique compound observations and 320 unique compounds\n",
      "Cocoa and cocoa products category has 493/3371 unique compound observations and 155 unique compounds\n",
      "Coffee and coffee products category has 464/4903 unique compound observations and 145 unique compounds\n",
      "Confectioneries category has 2139/26763 unique compound observations and 120 unique compounds\n",
      "Dishes category has 3200/42998 unique compound observations and 118 unique compounds\n",
      "Eggs category has 106/3563 unique compound observations and 106 unique compounds\n",
      "Fats and oils category has 597/5076 unique compound observations and 108 unique compounds\n",
      "Fruits category has 9061/36796 unique compound observations and 626 unique compounds\n",
      "Gourds category has 1592/10695 unique compound observations and 233 unique compounds\n",
      "Herbs and Spices category has 7709/19977 unique compound observations and 933 unique compounds\n",
      "Milk and milk products category has 1979/28973 unique compound observations and 168 unique compounds\n",
      "Nuts category has 2303/9176 unique compound observations and 262 unique compounds\n",
      "Pulses category has 1870/17272 unique compound observations and 258 unique compounds\n",
      "Snack foods category has 631/10703 unique compound observations and 111 unique compounds\n",
      "Soy category has 844/7249 unique compound observations and 174 unique compounds\n",
      "Teas category has 1021/6092 unique compound observations and 215 unique compounds\n",
      "Unclassified category has 102/692 unique compound observations and 102 unique compounds\n",
      "Vegetables category has 9983/51312 unique compound observations and 576 unique compounds\n"
     ]
    }
   ],
   "source": [
    "# Now I want to group the foods by category and extract the compound observations that are relevant to each food_group\n",
    "food_ids_grouped = foods.groupby('food_group').apply(lambda r: r.index)\n",
    "food_groups = food_ids_grouped.index\n",
    "\n",
    "for idx, fids in enumerate(food_ids_grouped):\n",
    "    obs = content[content['food_id'].isin(fids)]\n",
    "    unique_compounds = obs['source_id'].unique()\n",
    "    unique_obs = obs.groupby(['food_id', 'source_id'])['orig_content'].mean()\n",
    "    print('%s category has %d/%d unique compound observations and %d unique compounds' % \\\n",
    "        (food_groups[idx], len(unique_obs), len(obs), len(unique_compounds)))"
   ]
  },
  {
   "cell_type": "code",
   "execution_count": 251,
   "id": "0a1241c4-33cc-4b1f-9eec-5f67429c3bbd",
   "metadata": {},
   "outputs": [],
   "source": [
    "def replace_index_by_value(index, ref_df, colname):\n",
    "    return [ref_df.loc[idx, colname] for idx in index]\n",
    "\n",
    "def replace_index_for_tuple(index_tuple):\n",
    "    a_tup = replace_index_by_value([t[0] for t in index_tuple], foods, 'name')\n",
    "    b_tup = replace_index_by_value([t[1] for t in index_tuple], compounds, 'name')\n",
    "    return list(zip(a_tup, b_tup))\n",
    "\n",
    "def pretty_print_df_head(idx, df):\n",
    "    df.index = replace_index_for_tuple(df.index)\n",
    "    print('Category ', food_groups[idx])\n",
    "    print(df.head())\n",
    "    print()"
   ]
  },
  {
   "cell_type": "code",
   "execution_count": 289,
   "id": "c9e65c2b-80ec-4a7f-8aff-87fc1a68f3d1",
   "metadata": {},
   "outputs": [],
   "source": [
    "## So, it seems that redundant compound observations in the same foods are quite prevalent\n",
    "#  I will take some time later to quantify the variance on some of these redundant operations, \n",
    "#  but for now let's just take the mean.\n",
    "\n",
    "for idx, fids in enumerate(food_ids_grouped):\n",
    "    obs = content[content['food_id'].isin(fids)]\n",
    "    \n",
    "    # This gives us the mean concentration for each (food, compound) pair\n",
    "    mean_obs_by_food = obs.groupby(['food_id', 'source_id'])['orig_content'].mean()\n",
    "    mean_obs_by_food = mean_obs_by_food.sort_values(ascending=False)\n",
    "    \n",
    "    # Now, let's find the foods that have the highest concentration for each compound in the food family\n",
    "    mask = mean_obs_by_food.groupby('source_id').transform(lambda x: x==x.max()).astype(bool)\n",
    "    obs_by_compound = mean_obs_by_food[mask]\n",
    "    \n",
    "    # Now for each food category, let's find the food that contains the most variety of compounds\n",
    "    # We can start viewing these as superfoods since they pack the highest diversity of compounds in one\n",
    "    # However, we could be getting research bias here if some foods are studied more often than others\n",
    "    compounds_per_food = mean_obs_by_food.groupby('food_id').count().sort_values(ascending=False)\n",
    "    compounds_per_food.index = replace_index_by_value(compounds_per_food.index, foods, 'name')"
   ]
  },
  {
   "cell_type": "markdown",
   "id": "0353bad6-85ff-4358-8f6a-f10c9c94a26d",
   "metadata": {},
   "source": [
    "Finally for this food centric analysis, I'd like to find compounds that are particularly enriched in one family of foods in comparison to other food families. To do this, I will take the sum of compound concentrations divided by the number of foods in a given food category. Here is the formula for each compound $c$ and food $f$\n",
    "\n",
    "$$\n",
    "S_{F,c} = \\frac{1}{|F|} \\sum_{f}[c]_f\n",
    "$$\n",
    "\n",
    "where $S_{F,c}$ is the local enrichment score for a given compound $c$ in a food family $F$, $|F|$ is the number of foods in a food family, and $[c]_f$ is the concentration of compound $c$ in food $f$.\n",
    "\n",
    "Then, to compute the relative food enrichment score across food families, I will compute the following relative score for each compound $c$ in each food family $F$\n",
    "\n",
    "$$\n",
    "S^r_{F,c} = \\frac{S_{F,c}}{\\sum_F S_{F,c}}\n",
    "$$"
   ]
  },
  {
   "cell_type": "code",
   "execution_count": 325,
   "id": "34323220-61fe-4900-9d48-6cfbfe2f1c6a",
   "metadata": {},
   "outputs": [
    {
     "name": "stderr",
     "output_type": "stream",
     "text": [
      "100%|███████████████████████████████████████████| 23/23 [00:00<00:00, 31.76it/s]\n"
     ]
    }
   ],
   "source": [
    "raw_compound_count = pd.Series(0.0, index=compounds.index)\n",
    "\n",
    "for fids in tqdm(food_ids_grouped):\n",
    "    F = len(fids)\n",
    "    obs = content[content['food_id'].isin(fids)]    \n",
    "    mean_obs_by_food = obs.groupby(['food_id', 'source_id'])['orig_content'].mean()\n",
    "    \n",
    "    # Add the raw enrichment sum to the raw compound count series\n",
    "    raw_enrichment_scores = mean_obs_by_food.groupby('source_id').apply(lambda x: x.sum()/F)\n",
    "    raw_compound_count = raw_compound_count.add(raw_enrichment_scores, fill_value=0.0)"
   ]
  },
  {
   "cell_type": "code",
   "execution_count": 327,
   "id": "d135a2a0-41c8-4d52-9802-cecb42b0c814",
   "metadata": {},
   "outputs": [],
   "source": [
    "raw_compound_count = raw_compound_count[raw_compound_count>0]"
   ]
  },
  {
   "cell_type": "code",
   "execution_count": null,
   "id": "9292d895-f5d2-46bb-b751-1095698a5c65",
   "metadata": {},
   "outputs": [],
   "source": [
    "def process_enrichment(x, F):\n",
    "    s = x.sum()/F\n",
    "    if s == 0:\n",
    "        return 0.0\n",
    "    else:\n",
    "        norm = raw_compound_count[x.index[0][1]]\n",
    "        return s/norm\n",
    "\n",
    "for idx, fids in enumerate(food_ids_grouped):\n",
    "    F = len(fids)\n",
    "    obs = content[content['food_id'].isin(fids)]\n",
    "    mean_obs_by_food = obs.groupby(['food_id', 'source_id'])['orig_content'].mean()\n",
    "    \n",
    "    enrichment_scores = mean_obs_by_food \\\n",
    "        .groupby('source_id') \\\n",
    "        .apply(lambda x: process_enrichment(x, F)) \\\n",
    "        .sort_values(ascending=False)\n",
    "            \n",
    "    enrichment_scores = enrichment_scores[enrichment_scores>0]\n",
    "    \n",
    "    enrichment_scores.index = replace_index_by_value(enrichment_scores.index, compounds, 'name')\n",
    "    enrichment_scores = enrichment_scores[enrichment_scores > 0]\n",
    "    \n",
    "    print('Category ', food_groups[idx])\n",
    "    print(enrichment_scores.head(10))\n",
    "    print()"
   ]
  },
  {
   "cell_type": "markdown",
   "id": "6011ee1e-7c5d-4d73-b13d-d70c6f4a65b2",
   "metadata": {},
   "source": [
    "## Analyzing the compound enrichment at the basic food item level\n",
    "\n",
    "Finally, now that we have some interesting compounds that are relatively enriched in some food families, I'd like to take the same food-centric graph that I built previously, and add some node weights to highlight the relative food enrichment metric that we just computed. To accomplish this, we will need to compute this same normalized enrichment score, but at the food level instead of the food group level"
   ]
  },
  {
   "cell_type": "code",
   "execution_count": 466,
   "id": "c377d3b2-96f1-48ae-b5bb-8c6f640c078f",
   "metadata": {},
   "outputs": [],
   "source": [
    "# First let's choose a set of compounds that we'd like to analyze in graph format\n",
    "# I'm going to choose some compounds that I find interesting as well as some that our previous analysis cooked up\n",
    "targets = [\n",
    "    'Retinol',\n",
    "    'Nitrate', 'Nitrogen',\n",
    "    'Sodium',\n",
    "    'Sucrose', 'D-Glucose', 'Sugars', 'Lactose', 'Maltose',\n",
    "    'Cholesterol'\n",
    "]"
   ]
  },
  {
   "cell_type": "code",
   "execution_count": null,
   "id": "1876bc2b-fa89-4695-9df1-47dc503883e3",
   "metadata": {},
   "outputs": [],
   "source": [
    "# I use this fuzzy matching tool to find targets with relatively high abundance in the observations\n",
    "matches = difflib.get_close_matches('Cholesterol', compounds['name'], n=10)\n",
    "ids = compounds[compounds['name'].isin(matches)].index\n",
    "\n",
    "t = content[content['source_id'].isin(ids)].groupby('source_id').size().to_frame()\n",
    "t['name'] = compounds.loc[t.index]['name']\n",
    "t"
   ]
  },
  {
   "cell_type": "code",
   "execution_count": 480,
   "id": "2739df11-5c6f-4a3d-8d63-821849dc2f29",
   "metadata": {},
   "outputs": [],
   "source": [
    "# Now that we have a set of targets, we can go ahead and compute their enrichment scores in each food item\n",
    "# First we compute a total enrichment score by adding up all the individual concentrations across all foods\n",
    "target_ids = compounds[compounds['name'].isin(targets)].index\n",
    "\n",
    "# Some foods might have many observations, so we again take the mean score for such foods\n",
    "mean_obs_by_food = content[content['source_id'].isin(target_ids)] \\\n",
    "                    .groupby(['food_id', 'source_id'])['orig_content'].mean()\n",
    "\n",
    "total_enrichment = mean_obs_by_food.groupby('source_id').sum().to_frame()\n",
    "total_enrichment['name'] = compounds.loc[total_enrichment.index]['name']"
   ]
  },
  {
   "cell_type": "code",
   "execution_count": 489,
   "id": "d5b498a7-0078-4c0b-93cd-8607e4b5138b",
   "metadata": {},
   "outputs": [],
   "source": [
    "# Now we do the same enrichment calculation, but at the per food level\n",
    "# This will give us normalized enrichment scores for each food\n",
    "mean_obs_by_food = mean_obs_by_food[mean_obs_by_food > 0].to_frame()"
   ]
  },
  {
   "cell_type": "code",
   "execution_count": 498,
   "id": "1b6024b8-2234-4f4e-bb03-ff8e7cad6163",
   "metadata": {},
   "outputs": [],
   "source": [
    "local_enrichment = mean_obs_by_food.reset_index()"
   ]
  },
  {
   "cell_type": "code",
   "execution_count": 503,
   "id": "ea719ff0-7277-4f11-a9b2-61327d9d5ab1",
   "metadata": {},
   "outputs": [],
   "source": [
    "food_groups = [foods.loc[idx, 'food_group'] for idx in local_enrichment['food_id']]\n",
    "local_enrichment['food_group'] = food_groups"
   ]
  },
  {
   "cell_type": "code",
   "execution_count": 508,
   "id": "d9121017-27f4-4e44-8e28-df1a2b6c1534",
   "metadata": {},
   "outputs": [
    {
     "data": {
      "text/html": [
       "<div>\n",
       "<style scoped>\n",
       "    .dataframe tbody tr th:only-of-type {\n",
       "        vertical-align: middle;\n",
       "    }\n",
       "\n",
       "    .dataframe tbody tr th {\n",
       "        vertical-align: top;\n",
       "    }\n",
       "\n",
       "    .dataframe thead th {\n",
       "        text-align: right;\n",
       "    }\n",
       "</style>\n",
       "<table border=\"1\" class=\"dataframe\">\n",
       "  <thead>\n",
       "    <tr style=\"text-align: right;\">\n",
       "      <th></th>\n",
       "      <th>food_id</th>\n",
       "      <th>source_id</th>\n",
       "      <th>orig_content</th>\n",
       "      <th>food_group</th>\n",
       "    </tr>\n",
       "  </thead>\n",
       "  <tbody>\n",
       "    <tr>\n",
       "      <th>0</th>\n",
       "      <td>2</td>\n",
       "      <td>3524</td>\n",
       "      <td>28.000000</td>\n",
       "      <td>Vegetables</td>\n",
       "    </tr>\n",
       "    <tr>\n",
       "      <th>1</th>\n",
       "      <td>2</td>\n",
       "      <td>13401</td>\n",
       "      <td>300.000000</td>\n",
       "      <td>Vegetables</td>\n",
       "    </tr>\n",
       "    <tr>\n",
       "      <th>2</th>\n",
       "      <td>2</td>\n",
       "      <td>13831</td>\n",
       "      <td>0.016667</td>\n",
       "      <td>Vegetables</td>\n",
       "    </tr>\n",
       "    <tr>\n",
       "      <th>3</th>\n",
       "      <td>4</td>\n",
       "      <td>1131</td>\n",
       "      <td>1068.571429</td>\n",
       "      <td>Fruits</td>\n",
       "    </tr>\n",
       "    <tr>\n",
       "      <th>4</th>\n",
       "      <td>4</td>\n",
       "      <td>1193</td>\n",
       "      <td>80.000000</td>\n",
       "      <td>Fruits</td>\n",
       "    </tr>\n",
       "    <tr>\n",
       "      <th>...</th>\n",
       "      <td>...</td>\n",
       "      <td>...</td>\n",
       "      <td>...</td>\n",
       "      <td>...</td>\n",
       "    </tr>\n",
       "    <tr>\n",
       "      <th>3006</th>\n",
       "      <td>1021</td>\n",
       "      <td>13401</td>\n",
       "      <td>1550.000000</td>\n",
       "      <td>Teas</td>\n",
       "    </tr>\n",
       "    <tr>\n",
       "      <th>3007</th>\n",
       "      <td>1022</td>\n",
       "      <td>13272</td>\n",
       "      <td>327827.500000</td>\n",
       "      <td>NaN</td>\n",
       "    </tr>\n",
       "    <tr>\n",
       "      <th>3008</th>\n",
       "      <td>1023</td>\n",
       "      <td>3524</td>\n",
       "      <td>202.000000</td>\n",
       "      <td>NaN</td>\n",
       "    </tr>\n",
       "    <tr>\n",
       "      <th>3009</th>\n",
       "      <td>1023</td>\n",
       "      <td>3716</td>\n",
       "      <td>1230.000000</td>\n",
       "      <td>NaN</td>\n",
       "    </tr>\n",
       "    <tr>\n",
       "      <th>3010</th>\n",
       "      <td>1024</td>\n",
       "      <td>3524</td>\n",
       "      <td>657.000000</td>\n",
       "      <td>NaN</td>\n",
       "    </tr>\n",
       "  </tbody>\n",
       "</table>\n",
       "<p>3011 rows × 4 columns</p>\n",
       "</div>"
      ],
      "text/plain": [
       "      food_id  source_id   orig_content  food_group\n",
       "0           2       3524      28.000000  Vegetables\n",
       "1           2      13401     300.000000  Vegetables\n",
       "2           2      13831       0.016667  Vegetables\n",
       "3           4       1131    1068.571429      Fruits\n",
       "4           4       1193      80.000000      Fruits\n",
       "...       ...        ...            ...         ...\n",
       "3006     1021      13401    1550.000000        Teas\n",
       "3007     1022      13272  327827.500000         NaN\n",
       "3008     1023       3524     202.000000         NaN\n",
       "3009     1023       3716    1230.000000         NaN\n",
       "3010     1024       3524     657.000000         NaN\n",
       "\n",
       "[3011 rows x 4 columns]"
      ]
     },
     "execution_count": 508,
     "metadata": {},
     "output_type": "execute_result"
    }
   ],
   "source": [
    "local_enrichment"
   ]
  },
  {
   "cell_type": "code",
   "execution_count": 514,
   "id": "6d9d19ea-9ea1-47b4-ba1e-27e68481f765",
   "metadata": {},
   "outputs": [],
   "source": [
    "local_enrichment['scaled_content'] = \\\n",
    "    local_enrichment.apply(lambda r: r['orig_content'] / total_enrichment.loc[r['source_id'], 'orig_content'], axis=1)"
   ]
  },
  {
   "cell_type": "code",
   "execution_count": 531,
   "id": "71e920b6-aadc-4f01-93d2-043c7eecd12b",
   "metadata": {},
   "outputs": [],
   "source": [
    "local_enrichment['name'] = \\\n",
    "    local_enrichment.apply(lambda r: compounds.loc[r['source_id'], 'name'], axis=1)"
   ]
  },
  {
   "cell_type": "code",
   "execution_count": 564,
   "id": "05902a76-37ab-480f-841e-304198bd60fb",
   "metadata": {},
   "outputs": [],
   "source": [
    "nodes = foods\n",
    "\n",
    "for target in targets:\n",
    "    enrichments = local_enrichment[local_enrichment['name'] == target][['food_id', 'orig_content']].set_index('food_id')\n",
    "    enrichments.rename(columns={'orig_content': target+'_enrichment'}, inplace=True)\n",
    "    nodes = nodes.merge(enrichments, left_index=True, right_index=True, how=\"outer\")"
   ]
  },
  {
   "cell_type": "code",
   "execution_count": 567,
   "id": "703ae091-fad5-49c3-b753-3146f61a1057",
   "metadata": {},
   "outputs": [
    {
     "name": "stderr",
     "output_type": "stream",
     "text": [
      "100%|████████████████████████████████████████| 992/992 [00:08<00:00, 120.18it/s]\n"
     ]
    }
   ],
   "source": [
    "edgelist = []\n",
    "nodex = nodes.index\n",
    "\n",
    "for i in tqdm(range(len(nodex))):\n",
    "    for j in range(i+1, len(nodex)):\n",
    "        food1 = nodex[i]\n",
    "        food2 = nodex[j]\n",
    "        \n",
    "        if nodes.loc[food1, 'food_group'] == nodes.loc[food2, 'food_group']:\n",
    "            edgelist.append((food1, food2))    "
   ]
  },
  {
   "cell_type": "code",
   "execution_count": 570,
   "id": "63d1400a-3f30-415a-8f43-ba0d13a56846",
   "metadata": {},
   "outputs": [
    {
     "name": "stdout",
     "output_type": "stream",
     "text": [
      "992\n",
      "51399\n"
     ]
    }
   ],
   "source": [
    "g_nodes = nodes.to_dict('index')\n",
    "g_nodes = [(k, v) for k, v in g_nodes.items()]\n",
    "\n",
    "g = nx.Graph()\n",
    "\n",
    "g.add_nodes_from(g_nodes)\n",
    "g.add_edges_from(edgelist)\n",
    "\n",
    "print(len(g.nodes))\n",
    "print(len(g.edges))"
   ]
  },
  {
   "cell_type": "code",
   "execution_count": null,
   "id": "77ec4fd5-106e-421c-9d43-a0a6ee6ad575",
   "metadata": {},
   "outputs": [],
   "source": [
    "nx.write_gexf(g, \"full_graph_with_ctargets.gexf\")"
   ]
  }
 ],
 "metadata": {
  "kernelspec": {
   "display_name": "ml",
   "language": "python",
   "name": "ml"
  },
  "language_info": {
   "codemirror_mode": {
    "name": "ipython",
    "version": 3
   },
   "file_extension": ".py",
   "mimetype": "text/x-python",
   "name": "python",
   "nbconvert_exporter": "python",
   "pygments_lexer": "ipython3",
   "version": "3.11.4"
  }
 },
 "nbformat": 4,
 "nbformat_minor": 5
}
